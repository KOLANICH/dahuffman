{
 "cells": [
  {
   "cell_type": "code",
   "execution_count": 1,
   "metadata": {},
   "outputs": [],
   "source": [
    "import dahuffman"
   ]
  },
  {
   "cell_type": "markdown",
   "metadata": {},
   "source": [
    "# Usage"
   ]
  },
  {
   "cell_type": "markdown",
   "metadata": {},
   "source": [
    "Basic usage example, where the code table is built based on given symbol frequencies:"
   ]
  },
  {
   "cell_type": "code",
   "execution_count": 2,
   "metadata": {},
   "outputs": [],
   "source": [
    "codec = dahuffman.HuffmanCodec.from_frequencies({'e': 100, 'n':20, 'x':1, 'i': 40, 'q':3})"
   ]
  },
  {
   "cell_type": "code",
   "execution_count": 3,
   "metadata": {},
   "outputs": [
    {
     "name": "stdout",
     "output_type": "stream",
     "text": [
      "b'\\x86|%\\x13i@'\n",
      "867c25136940\n",
      "6\n"
     ]
    }
   ],
   "source": [
    "encoded = codec.encode('exeneeeexniqneieini')\n",
    "print(encoded)\n",
    "print(encoded.hex())\n",
    "print(len(encoded))"
   ]
  },
  {
   "cell_type": "code",
   "execution_count": 4,
   "metadata": {},
   "outputs": [
    {
     "data": {
      "text/plain": [
       "'exeneeeexniqneieini'"
      ]
     },
     "execution_count": 4,
     "metadata": {},
     "output_type": "execute_result"
    }
   ],
   "source": [
    "codec.decode(encoded)"
   ]
  },
  {
   "cell_type": "code",
   "execution_count": 5,
   "metadata": {},
   "outputs": [
    {
     "name": "stdout",
     "output_type": "stream",
     "text": [
      "Bits Code  Value Symbol\n",
      "   5 00000     0 _EOF\n",
      "   5 00001     1 'x'\n",
      "   4 0001      1 'q'\n",
      "   3 001       1 'n'\n",
      "   2 01        1 'i'\n",
      "   1 1         1 'e'\n"
     ]
    }
   ],
   "source": [
    "codec.print_code_table()"
   ]
  },
  {
   "cell_type": "markdown",
   "metadata": {},
   "source": [
    "You can also \"train\" the codec by providing it data directly:"
   ]
  },
  {
   "cell_type": "code",
   "execution_count": 6,
   "metadata": {},
   "outputs": [],
   "source": [
    "codec = dahuffman.HuffmanCodec.from_data('hello world how are you doing today foo bar lorem ipsum')"
   ]
  },
  {
   "cell_type": "code",
   "execution_count": 7,
   "metadata": {},
   "outputs": [
    {
     "data": {
      "text/plain": [
       "6"
      ]
     },
     "execution_count": 7,
     "metadata": {},
     "output_type": "execute_result"
    }
   ],
   "source": [
    "len(codec.encode('do lo er ad od'))"
   ]
  },
  {
   "cell_type": "markdown",
   "metadata": {},
   "source": [
    "# Non-string sequences"
   ]
  },
  {
   "cell_type": "markdown",
   "metadata": {},
   "source": [
    "Using `dahuffman` with sequences of symbols, e.g. country codes:"
   ]
  },
  {
   "cell_type": "code",
   "execution_count": 8,
   "metadata": {},
   "outputs": [],
   "source": [
    "countries = ['FR', 'UK', 'BE', 'IT', 'FR', 'IT', 'GR', 'FR', 'NL', 'BE', 'DE']\n",
    "codec = dahuffman.HuffmanCodec.from_data(countries)"
   ]
  },
  {
   "cell_type": "code",
   "execution_count": 9,
   "metadata": {},
   "outputs": [
    {
     "data": {
      "text/plain": [
       "(2, '4cca')"
      ]
     },
     "execution_count": 9,
     "metadata": {},
     "output_type": "execute_result"
    }
   ],
   "source": [
    "encoded = codec.encode(['FR', 'IT', 'BE', 'FR', 'UK'])\n",
    "len(encoded), encoded.hex()"
   ]
  },
  {
   "cell_type": "code",
   "execution_count": 10,
   "metadata": {},
   "outputs": [
    {
     "data": {
      "text/plain": [
       "['FR', 'IT', 'BE', 'FR', 'UK']"
      ]
     },
     "execution_count": 10,
     "metadata": {},
     "output_type": "execute_result"
    }
   ],
   "source": [
    "codec.decode(encoded)"
   ]
  },
  {
   "cell_type": "markdown",
   "metadata": {},
   "source": [
    "# Pre-trained codecs"
   ]
  },
  {
   "cell_type": "code",
   "execution_count": 11,
   "metadata": {},
   "outputs": [],
   "source": [
    "codecs = {\n",
    "    'shakespeare': dahuffman.load_shakespeare(),\n",
    "    'json': dahuffman.load_json(),\n",
    "    'xml': dahuffman.load_xml()\n",
    "}\n",
    "\n",
    "def try_codecs(data):\n",
    "    print(\"{n:12s} {s:5d} bytes\".format(n=\"original\", s=len(data)))\n",
    "    for name, codec in codecs.items():\n",
    "        try:\n",
    "            encoded = codec.encode(data)\n",
    "        except KeyError:\n",
    "            continue\n",
    "        print(\"{n:12s} {s:5d} bytes ({p:.1f}%)\".format(n=name, s=len(encoded), p=100.0*len(encoded)/len(data)))\n"
   ]
  },
  {
   "cell_type": "code",
   "execution_count": 12,
   "metadata": {},
   "outputs": [
    {
     "name": "stdout",
     "output_type": "stream",
     "text": [
      "original       232 bytes\n",
      "shakespeare    128 bytes (55.2%)\n",
      "json           155 bytes (66.8%)\n",
      "xml            156 bytes (67.2%)\n"
     ]
    }
   ],
   "source": [
    "try_codecs(\"\"\"To be, or not to be; that is the question;\n",
    "    Whether 'tis nobler in the mind to suffer\n",
    "    The slings and arrows of outrageous fortune,\n",
    "    Or to take arms against a sea of troubles,\n",
    "    And by opposing, end them. To die, to sleep\"\"\")"
   ]
  },
  {
   "cell_type": "code",
   "execution_count": 13,
   "metadata": {},
   "outputs": [
    {
     "name": "stdout",
     "output_type": "stream",
     "text": [
      "original       116 bytes\n",
      "json            77 bytes (66.4%)\n",
      "xml             90 bytes (77.6%)\n"
     ]
    }
   ],
   "source": [
    "try_codecs('''{\n",
    "  \"firstName\": \"John\",\n",
    "  \"lastName\": \"Smith\",\n",
    "  \"isAlive\": true,\n",
    "  \"age\": 27,\n",
    "  \"children\": [],\n",
    "  \"spouse\": null\n",
    "}''')"
   ]
  },
  {
   "cell_type": "code",
   "execution_count": 14,
   "metadata": {},
   "outputs": [
    {
     "name": "stdout",
     "output_type": "stream",
     "text": [
      "original       315 bytes\n",
      "json           270 bytes (85.7%)\n",
      "xml            222 bytes (70.5%)\n"
     ]
    }
   ],
   "source": [
    "try_codecs('''<?xml version=\"1.0\"?>\n",
    "<catalog>\n",
    "   <book id=\"bk101\">\n",
    "      <author>Gambardella, Matthew</author>\n",
    "      <title>XML Developer's Guide</title>\n",
    "      <price>44.95</price>\n",
    "   </book>\n",
    "   <book id=\"bk102\">\n",
    "      <author>Ralls, Kim</author>\n",
    "      <title>Midnight Rain</title>\n",
    "      <price>5.95</price>\n",
    "   </book>\n",
    "</catalog>''')"
   ]
  },
  {
   "cell_type": "code",
   "execution_count": null,
   "metadata": {},
   "outputs": [],
   "source": []
  },
  {
   "cell_type": "code",
   "execution_count": null,
   "metadata": {},
   "outputs": [],
   "source": []
  },
  {
   "cell_type": "code",
   "execution_count": null,
   "metadata": {},
   "outputs": [],
   "source": []
  },
  {
   "cell_type": "code",
   "execution_count": null,
   "metadata": {},
   "outputs": [],
   "source": []
  }
 ],
 "metadata": {
  "kernelspec": {
   "display_name": "Python 3",
   "language": "python",
   "name": "python3"
  },
  "language_info": {
   "codemirror_mode": {
    "name": "ipython",
    "version": 3
   },
   "file_extension": ".py",
   "mimetype": "text/x-python",
   "name": "python",
   "nbconvert_exporter": "python",
   "pygments_lexer": "ipython3",
   "version": "3.7.3"
  }
 },
 "nbformat": 4,
 "nbformat_minor": 2
}
